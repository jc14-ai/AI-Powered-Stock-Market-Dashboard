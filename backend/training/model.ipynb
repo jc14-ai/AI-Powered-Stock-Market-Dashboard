{
 "cells": [
  {
   "cell_type": "code",
   "execution_count": 13,
   "id": "71551d61",
   "metadata": {},
   "outputs": [],
   "source": [
    "# import yfinance as yf\n",
    "\n",
    "# import pandas as pd\n",
    "# import matplotlib.pyplot as plt\n",
    "# import seaborn as sns\n",
    "# from sklearn.model_selection import train_test_split, GridSearchCV, KFold\n",
    "# from sklearn.linear_model import LinearRegression\n",
    "# from sklearn.metrics import mean_squared_error, r2_score\n",
    "# from sklearn.preprocessing import StandardScaler\n",
    "# from sklearn.pipeline import Pipeline\n",
    "# from sklearn.base import clone\n",
    "\n",
    "# import plotly.express as px\n",
    "# import joblib\n",
    "\n",
    "# from datetime import date, timedelta"
   ]
  },
  {
   "cell_type": "code",
   "execution_count": 14,
   "id": "81f2c4a3",
   "metadata": {},
   "outputs": [],
   "source": [
    "# date_yesterday = str(date.today() - timedelta(days=1))\n",
    "# df_apple_to_csv = yf.download(\"AAPL\", start=\"2020-01-01\", end=date_yesterday)\n",
    "# df_microsoft_to_csv = yf.download(\"MSFT\", start=\"2020-01-01\", end=date_yesterday)\n",
    "# df_amazon_to_csv = yf.download(\"AMZN\", start=\"2020-01-01\", end=date_yesterday)\n",
    "# df_nvidia_to_csv = yf.download(\"NVDA\", start=\"2020-01-01\", end=date_yesterday)\n",
    "\n",
    "\n",
    "# apple_path = 'datasets/apple.csv'\n",
    "# microsoft_path = 'datasets/microsoft.csv'\n",
    "# amazon_path = 'datasets/amazon.csv'\n",
    "# nvidia_path = 'datasets/nvidia.csv'\n",
    "\n",
    "# df_apple_to_csv.to_csv(apple_path)\n",
    "# df_microsoft_to_csv.to_csv(microsoft_path)\n",
    "# df_amazon_to_csv.to_csv(amazon_path)\n",
    "# df_nvidia_to_csv.to_csv(nvidia_path)\n",
    "\n",
    "# df_apple = pd.read_csv(apple_path)\n",
    "# df_microsoft = pd.read_csv(microsoft_path)\n",
    "# df_amazon = pd.read_csv(amazon_path)\n",
    "# df_nvidia = pd.read_csv(nvidia_path)"
   ]
  },
  {
   "cell_type": "code",
   "execution_count": 15,
   "id": "34ea47fc",
   "metadata": {},
   "outputs": [],
   "source": [
    "# df_apple['Date'] = df_apple['Price']\n",
    "# df_apple = df_apple.drop(index=[0,1], columns='Price')\n",
    "\n",
    "# df_microsoft['Date'] = df_microsoft['Price']\n",
    "# df_microsoft = df_microsoft.drop(index=[0,1], columns='Price')\n",
    "\n",
    "# df_amazon['Date'] = df_amazon['Price']\n",
    "# df_amazon = df_amazon.drop(index=[0,1], columns='Price')\n",
    "\n",
    "# df_nvidia['Date'] = df_nvidia['Price']\n",
    "# df_nvidia = df_nvidia.drop(index=[0,1], columns='Price')"
   ]
  },
  {
   "cell_type": "code",
   "execution_count": 16,
   "id": "c8480b67",
   "metadata": {},
   "outputs": [],
   "source": [
    "# #INITIAL\n",
    "# dfs = [df_apple, df_amazon, df_microsoft, df_nvidia]\n",
    "# window = 14\n",
    "# short_period = 12\n",
    "# long_period = 26\n",
    "# signal_line_period = 9\n",
    "# stocks = ['AAPL', 'AMZN', 'MSFT', 'NVDA']\n",
    "# X_train, X_test, y_train, y_test = None, None, None, None"
   ]
  },
  {
   "cell_type": "code",
   "execution_count": 17,
   "id": "74b0b319",
   "metadata": {},
   "outputs": [],
   "source": [
    "# #CONVERTING TO CORRECT FEATURE TYPES\n",
    "# def convert_type(df):\n",
    "#     df['Close'] = df['Close'].astype(float)\n",
    "#     df['High'] = df['High'].astype(float)\n",
    "#     df['Low'] = df['Low'].astype(float)\n",
    "#     df['Open'] = df['Open'].astype(float)\n",
    "#     df['Volume'] = df['Volume'].astype(int)\n",
    "#     df['Date'] = pd.to_datetime(df['Date'])"
   ]
  },
  {
   "cell_type": "code",
   "execution_count": 18,
   "id": "8948e9cd",
   "metadata": {},
   "outputs": [],
   "source": [
    "# #FEATURE ENGINEERING\n",
    "# def engineer_features(df):\n",
    "#     df['Price Change'] = df['Close'].diff().fillna(0)\n",
    "\n",
    "#     df['Gain'] = df.loc[df['Price Change'] > 0, 'Price Change']\n",
    "#     df['Loss'] = -df.loc[df['Price Change'] < 0, 'Price Change']\n",
    "\n",
    "#     df['Gain'] = df['Gain'].fillna(0)\n",
    "#     df['Loss'] = df['Loss'].fillna(0)\n",
    "\n",
    "#     df['Average Gain'] = df['Gain'].rolling(window=window).mean().fillna(0)\n",
    "#     df['Average Loss'] = df['Loss'].rolling(window=window).mean().fillna(0)\n",
    "\n",
    "#     df['RS'] = df['Average Gain'] / df['Average Loss']\n",
    "\n",
    "#     df['RSI'] = 100 - (100 / (1 + df['RS']))\n",
    "\n",
    "#     df['Short EMA'] = df['Close'].ewm(span=short_period,adjust=False).mean()\n",
    "#     df['Long EMA'] = df['Close'].ewm(span=long_period, adjust=False).mean()\n",
    "\n",
    "#     df['MACD'] = df['Short EMA'] - df['Long EMA']\n",
    "\n",
    "#     df['Signal Line'] = df['MACD'].ewm(span=signal_line_period, adjust=False).mean()\n",
    "    \n",
    "#     df['MACD Histogram'] = df['MACD'] - df['Signal Line']\n",
    "    \n",
    "#     return df"
   ]
  },
  {
   "cell_type": "code",
   "execution_count": 19,
   "id": "e583da74",
   "metadata": {},
   "outputs": [],
   "source": [
    "# #DROPPING NULL AND UNIMPORTANT COLUMNS/ROWS\n",
    "# def drop_features_and_na(df):\n",
    "#     df = df.drop(columns=['Gain', 'Loss'])\n",
    "#     df = df.dropna()\n",
    "#     return df"
   ]
  },
  {
   "cell_type": "code",
   "execution_count": 20,
   "id": "4965699a",
   "metadata": {},
   "outputs": [],
   "source": [
    "# #MODEL TRAINING AND EVALUATION\n",
    "# def split_data(df):\n",
    "#     X = df.drop(columns=['Date', 'Close'])\n",
    "#     y = df['Close']\n",
    "\n",
    "#     return train_test_split(X, y, test_size=0.2, random_state=42)"
   ]
  },
  {
   "cell_type": "code",
   "execution_count": 21,
   "id": "454dff19",
   "metadata": {},
   "outputs": [],
   "source": [
    "# def create_pipeline():\n",
    "#     model = clone(Pipeline([\n",
    "#         ('scaler', StandardScaler()),\n",
    "#         ('lr', LinearRegression())\n",
    "#         ]))\n",
    "#     return model"
   ]
  },
  {
   "cell_type": "code",
   "execution_count": 22,
   "id": "17ae6ae3",
   "metadata": {},
   "outputs": [],
   "source": [
    "# def evaluate(model):\n",
    "#     kfold = KFold(n_splits=6, random_state=30, shuffle=True)\n",
    "\n",
    "#     params = {'lr__n_jobs': [10,20,50]}\n",
    "#     cv = clone(GridSearchCV(estimator=model,param_grid=params,cv=kfold))\n",
    "\n",
    "#     cv.fit(X_train, y_train)\n",
    "    \n",
    "#     return {\"best_params\": cv.best_params_, \"best_score\": cv.best_score_}, cv"
   ]
  },
  {
   "cell_type": "code",
   "execution_count": 23,
   "id": "4f3d9378",
   "metadata": {},
   "outputs": [],
   "source": [
    "# #MAIN OUTPUT\n",
    "# models = []\n",
    "\n",
    "# for i,df in enumerate(dfs):\n",
    "#     X_train, X_test, y_train, y_test = None, None, None, None\n",
    "    \n",
    "#     convert_type(df)\n",
    "#     df = engineer_features(df)\n",
    "#     df = drop_features_and_na(df)\n",
    "    \n",
    "#     X_train, X_test, y_train, y_test = split_data(df)\n",
    "    \n",
    "#     model = create_pipeline()\n",
    "    \n",
    "#     evaluation, cv = evaluate(model)\n",
    "#     df = df.drop(columns='Close')\n",
    "    \n",
    "#     print(\"Best parameter:\", evaluation['best_params']['lr__n_jobs'])\n",
    "#     print(\"Best score:\", evaluation['best_score'])\n",
    "    \n",
    "#     models.append({'model': cv, 'X_test': X_test,'y_test': y_test})\n",
    "    \n",
    "#     print(f\"{stocks[i]}:\")\n",
    "#     print(df.head())\n",
    "#     print()"
   ]
  },
  {
   "cell_type": "code",
   "execution_count": 24,
   "id": "9ae6cf5c",
   "metadata": {},
   "outputs": [],
   "source": [
    "# for i in range(len(models)):\n",
    "#     model_ = models[i]['model']\n",
    "#     X_test_ = models[i]['X_test']\n",
    "#     y_test_ = models[i]['y_test']\n",
    "    \n",
    "#     y_pred_ = model_.predict(X_test_)\n",
    "    \n",
    "#     print(\"MSE:\", mean_squared_error(y_true=y_test_, y_pred=y_pred_))\n",
    "#     print(\"R2 Score:\", r2_score(y_true=y_test_, y_pred=y_pred_))\n",
    "\n",
    "#     print(f\"Predicted values for {stocks[i]}:\")\n",
    "#     print(y_pred_[0:10])\n",
    "\n",
    "#     print(f\"Correct values for {stocks[i]}:\")\n",
    "#     print(y_test_[0:10])\n",
    "    \n",
    "#     joblib.dump(model,f\"models/{stocks[i]}.pkl\")\n",
    "    \n",
    "#     if joblib.load(f\"models/{stocks[i]}.pkl\"):\n",
    "#         print(f\"{stocks[i]} model saved!\")"
   ]
  }
 ],
 "metadata": {
  "kernelspec": {
   "display_name": "venv",
   "language": "python",
   "name": "python3"
  },
  "language_info": {
   "codemirror_mode": {
    "name": "ipython",
    "version": 3
   },
   "file_extension": ".py",
   "mimetype": "text/x-python",
   "name": "python",
   "nbconvert_exporter": "python",
   "pygments_lexer": "ipython3",
   "version": "3.10.8"
  }
 },
 "nbformat": 4,
 "nbformat_minor": 5
}
