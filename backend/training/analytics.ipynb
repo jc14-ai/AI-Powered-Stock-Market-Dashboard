{
 "cells": [
  {
   "cell_type": "code",
   "execution_count": 335,
   "id": "057765b6",
   "metadata": {},
   "outputs": [],
   "source": [
    "import yfinance as yf\n",
    "import pandas as pd\n",
    "import matplotlib.pyplot as plt\n",
    "import seaborn as sns\n",
    "import plotly.express as px\n",
    "from  datetime import date, timedelta"
   ]
  },
  {
   "cell_type": "code",
   "execution_count": 336,
   "id": "80463072",
   "metadata": {},
   "outputs": [
    {
     "name": "stderr",
     "output_type": "stream",
     "text": [
      "C:\\Users\\acer\\AppData\\Local\\Temp\\ipykernel_9496\\165612693.py:2: FutureWarning: YF.download() has changed argument auto_adjust default to True\n",
      "  df_apple_to_csv = yf.download(\"AAPL\", start=\"2020-01-01\", end=date_now)\n",
      "[*********************100%***********************]  1 of 1 completed\n",
      "C:\\Users\\acer\\AppData\\Local\\Temp\\ipykernel_9496\\165612693.py:3: FutureWarning: YF.download() has changed argument auto_adjust default to True\n",
      "  df_microsoft_to_csv = yf.download(\"MSFT\", start=\"2020-01-01\", end=date_now)\n",
      "[*********************100%***********************]  1 of 1 completed\n",
      "C:\\Users\\acer\\AppData\\Local\\Temp\\ipykernel_9496\\165612693.py:4: FutureWarning: YF.download() has changed argument auto_adjust default to True\n",
      "  df_amazon_to_csv = yf.download(\"AMZN\", start=\"2020-01-01\", end=date_now)\n",
      "[*********************100%***********************]  1 of 1 completed\n",
      "C:\\Users\\acer\\AppData\\Local\\Temp\\ipykernel_9496\\165612693.py:5: FutureWarning: YF.download() has changed argument auto_adjust default to True\n",
      "  df_nvidia_to_csv = yf.download(\"NVDA\", start=\"2020-01-01\", end=date_now)\n",
      "[*********************100%***********************]  1 of 1 completed\n"
     ]
    }
   ],
   "source": [
    "date_now = str(date.today() - timedelta(days=2))\n",
    "df_apple_to_csv = yf.download(\"AAPL\", start=\"2020-01-01\", end=date_now)\n",
    "df_microsoft_to_csv = yf.download(\"MSFT\", start=\"2020-01-01\", end=date_now)\n",
    "df_amazon_to_csv = yf.download(\"AMZN\", start=\"2020-01-01\", end=date_now)\n",
    "df_nvidia_to_csv = yf.download(\"NVDA\", start=\"2020-01-01\", end=date_now)\n",
    "\n",
    "apple_path = 'datasets/apple.csv'\n",
    "microsoft_path = 'datasets/microsoft.csv'\n",
    "amazon_path = 'datasets/amazon.csv'\n",
    "nvidia_path = 'datasets/nvidia.csv'\n",
    "\n",
    "df_apple_to_csv.to_csv(apple_path)\n",
    "df_microsoft_to_csv.to_csv(microsoft_path)\n",
    "df_amazon_to_csv.to_csv(amazon_path)\n",
    "df_nvidia_to_csv.to_csv(nvidia_path)\n",
    "\n",
    "df_apple = pd.read_csv(apple_path)\n",
    "df_microsoft = pd.read_csv(microsoft_path)\n",
    "df_amazon = pd.read_csv(amazon_path)\n",
    "df_nvidia = pd.read_csv(nvidia_path)"
   ]
  },
  {
   "cell_type": "code",
   "execution_count": 337,
   "id": "3077af97",
   "metadata": {},
   "outputs": [],
   "source": [
    "df_apple['Date'] = df_apple['Price']\n",
    "df_apple = df_apple.drop(index=[0,1], columns='Price')\n",
    "\n",
    "df_microsoft['Date'] = df_microsoft['Price']\n",
    "df_microsoft = df_microsoft.drop(index=[0,1], columns='Price')\n",
    "\n",
    "df_amazon['Date'] = df_amazon['Price']\n",
    "df_amazon = df_amazon.drop(index=[0,1], columns='Price')\n",
    "\n",
    "df_nvidia['Date'] = df_nvidia['Price']\n",
    "df_nvidia = df_nvidia.drop(index=[0,1], columns='Price')"
   ]
  },
  {
   "cell_type": "code",
   "execution_count": 338,
   "id": "a2b456ae",
   "metadata": {},
   "outputs": [],
   "source": [
    "#INITIAL\n",
    "dfs = [df_apple, df_amazon, df_microsoft, df_nvidia]\n",
    "window = 14\n",
    "short_period = 12\n",
    "long_period = 26\n",
    "signal_line_period = 9\n",
    "stocks = ['AAPL', 'AMZN', 'MSFT', 'NVDA']\n",
    "labels = ['WW', 'M', 'Y', 'AT']"
   ]
  },
  {
   "cell_type": "code",
   "execution_count": 339,
   "id": "29c8e74a",
   "metadata": {},
   "outputs": [],
   "source": [
    "#CONVERTING TO CORRECT FEATURE TYPES\n",
    "def convert_type(df):\n",
    "    df['Close'] = df['Close'].astype(float)\n",
    "    df['High'] = df['High'].astype(float)\n",
    "    df['Low'] = df['Low'].astype(float)\n",
    "    df['Open'] = df['Open'].astype(float)\n",
    "    df['Volume'] = df['Volume'].astype(int)\n",
    "    df['Date'] = pd.to_datetime(df['Date'])"
   ]
  },
  {
   "cell_type": "code",
   "execution_count": 340,
   "id": "5008cd0f",
   "metadata": {},
   "outputs": [],
   "source": [
    "#FEATURE ENGINEERING\n",
    "def engineer_features(df):\n",
    "    df['Price Change'] = df['Close'].diff().fillna(0)\n",
    "    \n",
    "    df['Gain'] = df.loc[df['Price Change'] > 0, 'Price Change']\n",
    "    df['Loss'] = -df.loc[df['Price Change'] < 0, 'Price Change']\n",
    "    df['Gain'] = df['Gain'].fillna(0)\n",
    "    df['Loss'] = df['Loss'].fillna(0)\n",
    "    \n",
    "    df['Average Gain'] = df['Gain'].rolling(window=window).mean().fillna(0)\n",
    "    df['Average Loss'] = df['Loss'].rolling(window=window).mean().fillna(0)\n",
    "    \n",
    "    df['RS'] = df['Average Gain'] / df['Average Loss']\n",
    "    df['RSI'] = 100 - (100 / (1 + df['RS']))\n",
    "    \n",
    "    df['Short EMA'] = df['Close'].ewm(span=short_period,adjust=False).mean()\n",
    "    df['Long EMA'] = df['Close'].ewm(span=long_period, adjust=False).mean()\n",
    "    \n",
    "    df['MACD'] = df['Short EMA'] - df['Long EMA']\n",
    "    df['Signal Line'] = df['MACD'].ewm(span=signal_line_period, adjust=False).mean()\n",
    "    df['MACD Histogram'] = df['MACD'] - df['Signal Line']\n",
    "    return df"
   ]
  },
  {
   "cell_type": "code",
   "execution_count": 341,
   "id": "576c4e16",
   "metadata": {},
   "outputs": [],
   "source": [
    "#DROPPING NULL AND UNIMPORTANT COLUMNS/ROWS\n",
    "def drop_features_and_na(df):\n",
    "    df = df.drop(columns=['Gain', 'Loss'])\n",
    "    df = df.dropna()\n",
    "    return df"
   ]
  },
  {
   "cell_type": "code",
   "execution_count": 342,
   "id": "26723f15",
   "metadata": {},
   "outputs": [],
   "source": [
    "#PRINTING SEABORN PLOTS\n",
    "def print_all_plots(datas, stock, labels):\n",
    "    for i in range(len(datas)):\n",
    "        plt.figure(figsize=(10.5,3.5))\n",
    "        sns.lineplot(data=datas[i], x='Date', y='Close', errorbar=None)\n",
    "        sns.despine()\n",
    "        plt.xlabel(xlabel=\"\")\n",
    "        plt.ylabel(ylabel=\"\")\n",
    "        plt.savefig(f\"../../frontend/public/svg_visuals/{stock}_{labels[i]}.svg\")\n",
    "        plt.close()\n",
    "        \n",
    "        #Sub chart\n",
    "        plt.figure(figsize=(10.5,3.5))\n",
    "        sns.lineplot(data=datas[i], x='Date', y='Close', errorbar=None)\n",
    "        sns.despine()\n",
    "        plt.xlabel(xlabel=\"\")\n",
    "        plt.ylabel(ylabel=\"\")\n",
    "        plt.savefig(f\"../../frontend/public/svg_visuals/{stock}_{labels[i]}_m.svg\")\n",
    "        plt.close()\n",
    "        \n",
    "        plt.figure(figsize=(16.2,3.5))\n",
    "        sns.lineplot(data=datas[i], x='Date', y='RSI', errorbar=None)\n",
    "        sns.despine()\n",
    "        plt.xlabel(xlabel=\"\")\n",
    "        plt.ylabel(ylabel=\"\")\n",
    "        plt.savefig(f\"../../frontend/public/svg_visuals/{stock}_{labels[i]}_m_RSI.svg\")\n",
    "        plt.close()\n",
    "        \n",
    "        fig = px.line(data_frame=datas[i], x='Date', y='Close')\n",
    "        fig.update_layout(width=1920, height=1080)\n",
    "        fig.write_html(f\"../../frontend/public/chart_visuals/{stock}_{labels[i]}.html\")"
   ]
  },
  {
   "cell_type": "code",
   "execution_count": null,
   "id": "a1255a29",
   "metadata": {},
   "outputs": [
    {
     "name": "stdout",
     "output_type": "stream",
     "text": [
      "86.57630920410156\n",
      "62.222503662109375\n",
      "207.53948974609375\n",
      "151.49816703796387\n"
     ]
    }
   ],
   "source": [
    "for i,df in enumerate(dfs):\n",
    "    convert_type(df)\n",
    "    df = engineer_features(df)\n",
    "    df = drop_features_and_na(df)\n",
    "    \n",
    "    week = df.loc[len(df) - 7::]\n",
    "    month = df.loc[len(df) - 31::]\n",
    "    year = df.loc[len(df) - 365::]\n",
    "    all_time = df\n",
    "    datas = [week, month, year, all_time]\n",
    "\n",
    "    print_all_plots(datas=datas, stock=stocks[i], labels=labels)\n",
    "    \n",
    "    print(f\"{stocks[i]} is good to go!\")"
   ]
  }
 ],
 "metadata": {
  "kernelspec": {
   "display_name": "venv",
   "language": "python",
   "name": "python3"
  },
  "language_info": {
   "codemirror_mode": {
    "name": "ipython",
    "version": 3
   },
   "file_extension": ".py",
   "mimetype": "text/x-python",
   "name": "python",
   "nbconvert_exporter": "python",
   "pygments_lexer": "ipython3",
   "version": "3.10.8"
  }
 },
 "nbformat": 4,
 "nbformat_minor": 5
}
