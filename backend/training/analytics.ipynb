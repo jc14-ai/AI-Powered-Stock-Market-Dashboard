{
 "cells": [
  {
   "cell_type": "code",
   "execution_count": 51,
   "id": "057765b6",
   "metadata": {},
   "outputs": [],
   "source": [
    "import yfinance as yf\n",
    "\n",
    "import pandas as pd\n",
    "import matplotlib.pyplot as plt\n",
    "import seaborn as sns\n",
    "import plotly.express as px\n",
    "from  datetime import date, timedelta"
   ]
  },
  {
   "cell_type": "code",
   "execution_count": 52,
   "id": "80463072",
   "metadata": {},
   "outputs": [
    {
     "name": "stderr",
     "output_type": "stream",
     "text": [
      "C:\\Users\\acer\\AppData\\Local\\Temp\\ipykernel_20156\\2667087305.py:2: FutureWarning: YF.download() has changed argument auto_adjust default to True\n",
      "  df_apple_to_csv = yf.download(\"AAPL\", start=\"2020-01-01\", end=date_now)\n",
      "[*********************100%***********************]  1 of 1 completed\n",
      "C:\\Users\\acer\\AppData\\Local\\Temp\\ipykernel_20156\\2667087305.py:3: FutureWarning: YF.download() has changed argument auto_adjust default to True\n",
      "  df_microsoft_to_csv = yf.download(\"MSFT\", start=\"2020-01-01\", end=date_now)\n",
      "[*********************100%***********************]  1 of 1 completed\n",
      "C:\\Users\\acer\\AppData\\Local\\Temp\\ipykernel_20156\\2667087305.py:4: FutureWarning: YF.download() has changed argument auto_adjust default to True\n",
      "  df_amazon_to_csv = yf.download(\"AMZN\", start=\"2020-01-01\", end=date_now)\n",
      "[*********************100%***********************]  1 of 1 completed\n",
      "C:\\Users\\acer\\AppData\\Local\\Temp\\ipykernel_20156\\2667087305.py:5: FutureWarning: YF.download() has changed argument auto_adjust default to True\n",
      "  df_nvidia_to_csv = yf.download(\"NVDA\", start=\"2020-01-01\", end=date_now)\n",
      "[*********************100%***********************]  1 of 1 completed\n"
     ]
    }
   ],
   "source": [
    "date_now = str(date.today() - timedelta(days=1))\n",
    "df_apple_to_csv = yf.download(\"AAPL\", start=\"2020-01-01\", end=date_now)\n",
    "df_microsoft_to_csv = yf.download(\"MSFT\", start=\"2020-01-01\", end=date_now)\n",
    "df_amazon_to_csv = yf.download(\"AMZN\", start=\"2020-01-01\", end=date_now)\n",
    "df_nvidia_to_csv = yf.download(\"NVDA\", start=\"2020-01-01\", end=date_now)\n",
    "\n",
    "\n",
    "apple_path = 'datasets/apple.csv'\n",
    "microsoft_path = 'datasets/microsoft.csv'\n",
    "amazon_path = 'datasets/amazon.csv'\n",
    "nvidia_path = 'datasets/nvidia.csv'\n",
    "\n",
    "df_apple_to_csv.to_csv(apple_path)\n",
    "df_microsoft_to_csv.to_csv(microsoft_path)\n",
    "df_amazon_to_csv.to_csv(amazon_path)\n",
    "df_nvidia_to_csv.to_csv(nvidia_path)\n",
    "\n",
    "df_apple = pd.read_csv(apple_path)\n",
    "df_microsoft = pd.read_csv(microsoft_path)\n",
    "df_amazon = pd.read_csv(amazon_path)\n",
    "df_nvidia = pd.read_csv(nvidia_path)"
   ]
  },
  {
   "cell_type": "code",
   "execution_count": 53,
   "id": "3077af97",
   "metadata": {},
   "outputs": [],
   "source": [
    "df_apple['Date'] = df_apple['Price']\n",
    "df_apple = df_apple.drop(index=[0,1], columns='Price')\n",
    "\n",
    "df_microsoft['Date'] = df_microsoft['Price']\n",
    "df_microsoft = df_microsoft.drop(index=[0,1], columns='Price')\n",
    "\n",
    "df_amazon['Date'] = df_amazon['Price']\n",
    "df_amazon = df_amazon.drop(index=[0,1], columns='Price')\n",
    "\n",
    "df_nvidia['Date'] = df_nvidia['Price']\n",
    "df_nvidia = df_nvidia.drop(index=[0,1], columns='Price')"
   ]
  },
  {
   "cell_type": "code",
   "execution_count": 54,
   "id": "a2b456ae",
   "metadata": {},
   "outputs": [],
   "source": [
    "#INITIAL\n",
    "dfs = [df_apple, df_amazon, df_microsoft, df_nvidia]\n",
    "window = 14\n",
    "short_period = 12\n",
    "long_period = 26\n",
    "signal_line_period = 9\n",
    "stocks = ['AAPL', 'AMZN', 'MSFT', 'NVDA']"
   ]
  },
  {
   "cell_type": "code",
   "execution_count": 55,
   "id": "29c8e74a",
   "metadata": {},
   "outputs": [],
   "source": [
    "#CONVERTING TO CORRECT FEATURE TYPES\n",
    "def convert_type(df):\n",
    "    df['Close'] = df['Close'].astype(float)\n",
    "    df['High'] = df['High'].astype(float)\n",
    "    df['Low'] = df['Low'].astype(float)\n",
    "    df['Open'] = df['Open'].astype(float)\n",
    "    df['Volume'] = df['Volume'].astype(int)\n",
    "    df['Date'] = pd.to_datetime(df['Date'])"
   ]
  },
  {
   "cell_type": "code",
   "execution_count": 56,
   "id": "5008cd0f",
   "metadata": {},
   "outputs": [],
   "source": [
    "#FEATURE ENGINEERING\n",
    "def engineer_features(df):\n",
    "    df['Price Change'] = df['Close'].diff().fillna(0)\n",
    "\n",
    "    df['Gain'] = df.loc[df['Price Change'] > 0, 'Price Change']\n",
    "    df['Loss'] = -df.loc[df['Price Change'] < 0, 'Price Change']\n",
    "\n",
    "    df['Gain'] = df['Gain'].fillna(0)\n",
    "    df['Loss'] = df['Loss'].fillna(0)\n",
    "\n",
    "    df['Average Gain'] = df['Gain'].rolling(window=window).mean().fillna(0)\n",
    "    df['Average Loss'] = df['Loss'].rolling(window=window).mean().fillna(0)\n",
    "\n",
    "    df['RS'] = df['Average Gain'] / df['Average Loss']\n",
    "\n",
    "    df['RSI'] = 100 - (100 / (1 + df['RS']))\n",
    "\n",
    "    df['Short EMA'] = df['Close'].ewm(span=short_period,adjust=False).mean()\n",
    "    df['Long EMA'] = df['Close'].ewm(span=long_period, adjust=False).mean()\n",
    "\n",
    "    df['MACD'] = df['Short EMA'] - df['Long EMA']\n",
    "\n",
    "    df['Signal Line'] = df['MACD'].ewm(span=signal_line_period, adjust=False).mean()\n",
    "    \n",
    "    df['MACD Histogram'] = df['MACD'] - df['Signal Line']\n",
    "    \n",
    "    df['Year'] = df['Date'].dt.year\n",
    "    df['Week'] = df['Date'].dt.weekday\n",
    "    \n",
    "    df['Year-Month'] = df['Date'].dt.to_period('M').astype(str)\n",
    "    #df['Week']\n",
    "    \n",
    "    return df"
   ]
  },
  {
   "cell_type": "code",
   "execution_count": 57,
   "id": "576c4e16",
   "metadata": {},
   "outputs": [],
   "source": [
    "#DROPPING NULL AND UNIMPORTANT COLUMNS/ROWS\n",
    "def drop_features_and_na(df):\n",
    "    df = df.drop(columns=['Gain', 'Loss'])\n",
    "    df = df.dropna()\n",
    "    return df"
   ]
  },
  {
   "cell_type": "code",
   "execution_count": 58,
   "id": "26723f15",
   "metadata": {},
   "outputs": [],
   "source": [
    "#PRINTING SEABORN PLOTS\n",
    "def print_dmy_plots(df, stock):\n",
    "    #1W\n",
    "    # plt.figure(figsize=(15,7))\n",
    "    # sns.lineplot(data=df.loc[len(df) - 7::, ['Date','Close']], x='Date', y='Close', errorbar=None)\n",
    "    # plt.title(f'1 Week for {stock}')\n",
    "    # # plt.show()\n",
    "    \n",
    "    # #1M\n",
    "    # plt.figure(figsize=(15,7))\n",
    "    # sns.lineplot(data=df.loc[len(df) - 31::, ['Date','Close']], x='Date', y='Close', errorbar=None)\n",
    "    # plt.title(f'1 Month for {stock}')\n",
    "    # # plt.show()\n",
    "    \n",
    "    # #3M\n",
    "    # plt.figure(figsize=(15,7))\n",
    "    # sns.lineplot(data=df.loc[len(df) - (31 * 3)::, ['Date','Close']], x='Date', y='Close', errorbar=None)\n",
    "    # plt.title(f'3 Months for {stock}')\n",
    "    # # plt.show()\n",
    "    \n",
    "    # #1Y \n",
    "    # plt.figure(figsize=(15,7))\n",
    "    # sns.lineplot(data=df.loc[len(df) - 365::, ['Date','Close']], x='Date', y='Close', errorbar=None)\n",
    "    # plt.title(f'1 Year for {stock}')\n",
    "    # # plt.show()\n",
    "    \n",
    "    # #5Y \n",
    "    # plt.figure(figsize=(15,7))\n",
    "    # sns.lineplot(data=df.loc[len(df) - (365 * 5)::, ['Date','Close']], x='Date', y='Close', errorbar=None)\n",
    "    # plt.title(f'5 Years for {stock}')\n",
    "    # # plt.show()\n",
    "    \n",
    "    # #ALL \n",
    "    # plt.figure(figsize=(15,7))\n",
    "    # sns.lineplot(data=df, x='Date', y='Close', errorbar=None)\n",
    "    # plt.title(f'All time for {stock}')\n",
    "    # plt.show()\n",
    "    pass"
   ]
  },
  {
   "cell_type": "code",
   "execution_count": 59,
   "id": "a6cf54cc",
   "metadata": {},
   "outputs": [],
   "source": [
    "#1D INTERVAL\n",
    "def print_1d_plot(df, stock):\n",
    "    fig = px.line(data_frame=df, x='Date', y='Close')\n",
    "    fig.update_layout(width=1920, height=1080)\n",
    "    fig.write_html(f\"../../frontend/public/{stock}1D.html\")\n",
    "    print(f'1 Day Interval trend for {stock}, downloaded!')"
   ]
  },
  {
   "cell_type": "code",
   "execution_count": 60,
   "id": "5bac47b9",
   "metadata": {},
   "outputs": [],
   "source": [
    "\n",
    "#TODO: 1W INTERVAL\n",
    "def print_1w_plot(df, stock):\n",
    "    fig = px.line(data_frame=df, x='Date', y='Close')\n",
    "    fig.update_layout(width=1920, height=1080)\n",
    "    fig.write_html(f\"../../frontend/public/{stock}1W.html\")\n",
    "    print(f'1 Week Interval trend for {stock}, downloaded!')"
   ]
  },
  {
   "cell_type": "code",
   "execution_count": 61,
   "id": "d57534d9",
   "metadata": {},
   "outputs": [],
   "source": [
    "#1M INTERVAL\n",
    "def print_1m_plot(df, stock):\n",
    "    fig = px.line(data_frame=df, x='Year-Month', y='Close')\n",
    "    fig.update_layout(width=1920, height=1080)\n",
    "    fig.write_html(f\"../../frontend/public/{stock}1M.html\")\n",
    "    print(f'1 Month Interval trend for {stock}, downloaded!')"
   ]
  },
  {
   "cell_type": "code",
   "execution_count": 62,
   "id": "47414774",
   "metadata": {},
   "outputs": [],
   "source": [
    "#1Y INTERVAL\n",
    "def print_1y_plot(df, stock):\n",
    "    fig = px.line(data_frame=df, x='Year', y='Close')\n",
    "    fig.update_layout(width=1920, height=1080)\n",
    "    fig.write_html(f\"../../frontend/public/{stock}1Y.html\")\n",
    "    print(f'1 Year Interval trend for {stock}, downloaded!')"
   ]
  },
  {
   "cell_type": "code",
   "execution_count": 63,
   "id": "0a7404e7",
   "metadata": {},
   "outputs": [],
   "source": [
    "def print_plots(df, stock):\n",
    "    print_1d_plot(df, stock)\n",
    "    # print_1w_plot(df, stock)\n",
    "    print_1m_plot(df, stock)\n",
    "    print_1y_plot(df, stock)\n",
    "    pass"
   ]
  },
  {
   "cell_type": "code",
   "execution_count": 64,
   "id": "a1255a29",
   "metadata": {},
   "outputs": [
    {
     "name": "stdout",
     "output_type": "stream",
     "text": [
      "AAPL is good to go!\n",
      "AMZN is good to go!\n",
      "MSFT is good to go!\n",
      "NVDA is good to go!\n"
     ]
    }
   ],
   "source": [
    "for i,df in enumerate(dfs):\n",
    "    convert_type(df)\n",
    "    df = engineer_features(df)\n",
    "    df = drop_features_and_na(df)\n",
    "    \n",
    "    # print('---------------------------------------------------------------------------')\n",
    "    print(f\"{stocks[i]} is good to go!\")\n",
    "    # print(df.head())\n",
    "    \n",
    "    print_dmy_plots(df, stocks[i])\n",
    "    # print_plots(df, stocks[i])"
   ]
  }
 ],
 "metadata": {
  "kernelspec": {
   "display_name": "venv",
   "language": "python",
   "name": "python3"
  },
  "language_info": {
   "codemirror_mode": {
    "name": "ipython",
    "version": 3
   },
   "file_extension": ".py",
   "mimetype": "text/x-python",
   "name": "python",
   "nbconvert_exporter": "python",
   "pygments_lexer": "ipython3",
   "version": "3.10.8"
  }
 },
 "nbformat": 4,
 "nbformat_minor": 5
}
